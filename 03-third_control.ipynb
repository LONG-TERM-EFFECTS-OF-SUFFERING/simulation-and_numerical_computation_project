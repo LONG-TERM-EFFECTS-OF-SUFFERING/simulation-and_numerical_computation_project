{
 "cells": [
  {
   "cell_type": "markdown",
   "metadata": {},
   "source": [
    "<!-- ---\n",
    "reviewed_on: \"2024-11-20\"\n",
    "--- -->\n",
    "\n",
    "# Inference and validation"
   ]
  },
  {
   "cell_type": "markdown",
   "metadata": {},
   "source": [
    "## Import necessary packages"
   ]
  },
  {
   "cell_type": "code",
   "execution_count": 1,
   "metadata": {},
   "outputs": [],
   "source": [
    "import matplotlib.pyplot as plt\n",
    "import numpy as np\n",
    "import torch\n",
    "import torch.nn.functional as F\n",
    "from torch import nn, optim"
   ]
  },
  {
   "cell_type": "markdown",
   "metadata": {},
   "source": [
    "## Loading the dataset"
   ]
  },
  {
   "cell_type": "code",
   "execution_count": null,
   "metadata": {},
   "outputs": [
    {
     "name": "stdout",
     "output_type": "stream",
     "text": [
      "Files already downloaded and verified\n",
      "Files already downloaded and verified\n"
     ]
    }
   ],
   "source": [
    "from torchvision import datasets, transforms\n",
    "\n",
    "\n",
    "transform = transforms.Compose([transforms.ToTensor(),\n",
    "\t\t\t\t\t\t\t\ttransforms.Normalize((0.4919, 0.4827, 0.4472),\n",
    "\t\t\t\t\t\t\t\t\t\t\t\t\t\t(0.2022, 0.1994, 0.2010)),\n",
    "\t\t\t\t\t\t\t\t])\n",
    "\n",
    "trainset = datasets.CIFAR10(\"~/.pytorch/CIFAR-10/\", download=True, train=True, transform=transform)\n",
    "trainloader = torch.utils.data.DataLoader(trainset, batch_size=64, shuffle=True)\n",
    "\n",
    "testset = datasets.CIFAR10(\"~/.pytorch/CIFAR-10/\", download=True, train=False, transform=transform)\n",
    "testloader = torch.utils.data.DataLoader(testset, batch_size=64, shuffle=True)"
   ]
  },
  {
   "cell_type": "code",
   "execution_count": null,
   "metadata": {},
   "outputs": [],
   "source": [
    "classes = [\n",
    "\t\t\t\"airplane\",\n",
    "\t\t\t\"automobile\",\n",
    "\t\t\t\"bird\",\n",
    "\t\t\t\"cat\",\n",
    "\t\t\t\"deer\",\n",
    "\t\t\t\"dog\",\n",
    "\t\t\t\"frog\",\n",
    "\t\t\t\"horse\",\n",
    "\t\t\t\"ship\",\n",
    "\t\t\t\"truck\"\n",
    "\t\t]"
   ]
  },
  {
   "cell_type": "markdown",
   "metadata": {},
   "source": [
    "## Building the network"
   ]
  },
  {
   "cell_type": "code",
   "execution_count": 4,
   "metadata": {},
   "outputs": [],
   "source": [
    "input_size = 3072\n",
    "output_size = 10"
   ]
  },
  {
   "cell_type": "code",
   "execution_count": 5,
   "metadata": {},
   "outputs": [],
   "source": [
    "hidden_sizes = [1024, 512, 256]"
   ]
  },
  {
   "cell_type": "code",
   "execution_count": 6,
   "metadata": {},
   "outputs": [],
   "source": [
    "class Network(nn.Module):\n",
    "\tdef __init__(self):\n",
    "\t\tsuper().__init__()\n",
    "\n",
    "\t\tself.fc1 = nn.Linear(input_size, hidden_sizes[0])\n",
    "\t\tself.fc2 = nn.Linear(hidden_sizes[0], hidden_sizes[1])\n",
    "\t\tself.fc3 = nn.Linear(hidden_sizes[1], hidden_sizes[2])\n",
    "\t\tself.fc4 = nn.Linear(hidden_sizes[2], output_size)\n",
    "\n",
    "\t\tself.dropout = nn.Dropout(p=0.2)\n",
    "\n",
    "\tdef forward(self, x):\n",
    "\t\tx = x.view(x.shape[0], -1)\n",
    "\n",
    "\t\tx = self.dropout(F.relu(self.fc1(x)))\n",
    "\t\tx = self.dropout(F.relu(self.fc2(x)))\n",
    "\t\tx = self.dropout(F.relu(self.fc3(x)))\n",
    "\n",
    "\t\tx = F.log_softmax(self.fc4(x), dim=1)\n",
    "\n",
    "\t\treturn x"
   ]
  },
  {
   "cell_type": "markdown",
   "metadata": {},
   "source": [
    "## Loading the trained network"
   ]
  },
  {
   "cell_type": "code",
   "execution_count": null,
   "metadata": {},
   "outputs": [],
   "source": [
    "state_dict = torch.load(\"checkpoint.pth\")\n",
    "saved_network = Network()\n",
    "\n",
    "saved_network.load_state_dict(state_dict)"
   ]
  },
  {
   "cell_type": "markdown",
   "metadata": {},
   "source": [
    "## Training the network"
   ]
  },
  {
   "cell_type": "code",
   "execution_count": 7,
   "metadata": {},
   "outputs": [],
   "source": [
    "network = Network()\n",
    "optimizer = optim.Adam(network.parameters(), lr=0.0001)\n",
    "criterion = nn.NLLLoss()"
   ]
  },
  {
   "cell_type": "code",
   "execution_count": 8,
   "metadata": {},
   "outputs": [
    {
     "name": "stdout",
     "output_type": "stream",
     "text": [
      "Epoch: 1/1  Training Loss: 1.732  Test Loss: 1.523  Test Accuracy: 0.464 \n"
     ]
    }
   ],
   "source": [
    "epochs = 1\n",
    "\n",
    "train_losses, test_losses = [], []\n",
    "for e in range(epochs):\n",
    "\trunning_loss = 0\n",
    "\tfor images, labels in trainloader:\n",
    "\t\toptimizer.zero_grad()\n",
    "\n",
    "\t\tlog_ps = network(images)\n",
    "\t\tloss = criterion(log_ps, labels)\n",
    "\t\tloss.backward()\n",
    "\t\toptimizer.step()\n",
    "\n",
    "\t\trunning_loss += loss.item()\n",
    "\telse:\n",
    "\t\ttest_loss = 0\n",
    "\t\taccuracy = 0\n",
    "\n",
    "\t\t# Turn off gradients for validation, saves memory and computations\n",
    "\t\twith torch.no_grad():\n",
    "\t\t\tnetwork.eval()\n",
    "\t\t\tfor images, labels in testloader:\n",
    "\t\t\t\tlog_ps = network(images)\n",
    "\t\t\t\ttest_loss += criterion(log_ps, labels)\n",
    "\n",
    "\t\t\t\tps = torch.exp(log_ps)\n",
    "\t\t\t\ttop_p, top_class = ps.topk(1, dim=1)\n",
    "\t\t\t\tequals = top_class == labels.view(*top_class.shape)\n",
    "\t\t\t\taccuracy += torch.mean(equals.type(torch.FloatTensor))\n",
    "\n",
    "\t\tnetwork.train()\n",
    "\n",
    "\t\ttrain_losses.append(running_loss / len(trainloader))\n",
    "\t\ttest_losses.append(test_loss / len(testloader))\n",
    "\n",
    "\t\tprint(\"Epoch: {}/{} \".format(e + 1, epochs),\n",
    "\t\t\t\t\"Training Loss: {:.3f} \".format(train_losses[-1]),\n",
    "\t\t\t\t\"Test Loss: {:.3f} \".format(test_losses[-1]),\n",
    "\t\t\t\t\"Test Accuracy: {:.3f} \".format(accuracy / len(testloader)))"
   ]
  },
  {
   "cell_type": "code",
   "execution_count": 9,
   "metadata": {},
   "outputs": [
    {
     "data": {
      "text/plain": [
       "<matplotlib.legend.Legend at 0x1d48b14b9e0>"
      ]
     },
     "execution_count": 9,
     "metadata": {},
     "output_type": "execute_result"
    },
    {
     "data": {
      "image/png": "[encoded data removed]",
      "text/plain": [
       "<Figure size 640x480 with 1 Axes>"
      ]
     },
     "metadata": {},
     "output_type": "display_data"
    }
   ],
   "source": [
    "plt.plot(train_losses, label=\"Training loss\")\n",
    "plt.plot(test_losses, label=\"Validation loss\")\n",
    "plt.legend(frameon=False)"
   ]
  },
  {
   "cell_type": "markdown",
   "metadata": {},
   "source": [
    "## Inference"
   ]
  },
  {
   "cell_type": "code",
   "execution_count": 10,
   "metadata": {},
   "outputs": [],
   "source": [
    "def view_classify(img, ps, classes):\n",
    "\t''' Function for viewing an image and its predicted classes. '''\n",
    "\n",
    "\t# If `img` is flattened, reshape it to (3, 32, 32) for CIFAR-10 images\n",
    "\tif img.dim() == 2 or img.shape[1] == 3 * 32 * 32:  # Adjust size for your dataset\n",
    "\t\timg = img.view(3, 32, 32)\n",
    "\n",
    "\t# Permute dimensions to make it compatible with plt.imshow\n",
    "\timg = img.permute(1, 2, 0)  # [C, H, W] -> [H, W, C]\n",
    "\timg = (img - img.min()) / (img.max() - img.min())  # Normalize for display\n",
    "\n",
    "\t# Convert prediction tensor to numpy for plotting\n",
    "\tps = ps.data.numpy().squeeze()\n",
    "\n",
    "\t# Plot the image and the class probabilities\n",
    "\tfig, (ax1, ax2) = plt.subplots(figsize=(6, 9), ncols=2)\n",
    "\tax1.imshow(img.numpy())\n",
    "\tax1.axis(\"off\")\n",
    "\n",
    "\tax2.barh(np.arange(len(classes)), ps)\n",
    "\tax2.set_aspect(0.1)\n",
    "\tax2.set_yticks(np.arange(len(classes)))\n",
    "\tax2.set_yticklabels(classes, size=\"small\")\n",
    "\tax2.set_title(\"Class probability\")\n",
    "\tax2.set_xlim(0, 1.1)\n",
    "\n",
    "\tplt.tight_layout()\n",
    "\tplt.show()"
   ]
  },
  {
   "cell_type": "code",
   "execution_count": 11,
   "metadata": {},
   "outputs": [
    {
     "data": {
      "image/png": "[encoded data removed]",
      "text/plain": [
       "<Figure size 600x900 with 2 Axes>"
      ]
     },
     "metadata": {},
     "output_type": "display_data"
    }
   ],
   "source": [
    "network.eval()\n",
    "\n",
    "dataiter = iter(testloader)\n",
    "images, labels = next(dataiter)\n",
    "img = images[0].view(1, -1)\n",
    "\n",
    "# Calculate the class probabilities (softmax) for img\n",
    "with torch.no_grad():\n",
    "\toutput = network.forward(img)\n",
    "\n",
    "ps = torch.exp(output)\n",
    "\n",
    "# Plot the image and probabilities\n",
    "view_classify(img, ps, classes)"
   ]
  },
  {
   "cell_type": "markdown",
   "metadata": {},
   "source": [
    "## Saving the network"
   ]
  },
  {
   "cell_type": "code",
   "execution_count": null,
   "metadata": {},
   "outputs": [],
   "source": [
    "torch.save(network.state_dict(), \"checkpoint.pth\")"
   ]
  }
 ],
 "metadata": {
  "kernelspec": {
   "display_name": "base",
   "language": "python",
   "name": "python3"
  },
  "language_info": {
   "codemirror_mode": {
    "name": "ipython",
    "version": 3
   },
   "file_extension": ".py",
   "mimetype": "text/x-python",
   "name": "python",
   "nbconvert_exporter": "python",
   "pygments_lexer": "ipython3",
   "version": "3.12.3"
  }
 },
 "nbformat": 4,
 "nbformat_minor": 2
}
