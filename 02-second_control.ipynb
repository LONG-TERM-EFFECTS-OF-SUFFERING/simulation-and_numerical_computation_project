{
 "cells": [
  {
   "cell_type": "markdown",
   "metadata": {},
   "source": [
    "<!-- ---\n",
    "reviewed_on: \"2024-10-30\"\n",
    "--- -->\n",
    "\n",
    "# Second control"
   ]
  },
  {
   "cell_type": "markdown",
   "metadata": {},
   "source": [
    "## Import necessary packages"
   ]
  },
  {
   "cell_type": "code",
   "execution_count": 1,
   "metadata": {},
   "outputs": [],
   "source": [
    "import matplotlib.pyplot as plt\n",
    "import numpy as np\n",
    "import torch\n",
    "from torch import nn, optim"
   ]
  },
  {
   "cell_type": "markdown",
   "metadata": {},
   "source": [
    "## Loading the dataset"
   ]
  },
  {
   "cell_type": "code",
   "execution_count": 2,
   "metadata": {},
   "outputs": [
    {
     "name": "stdout",
     "output_type": "stream",
     "text": [
      "Files already downloaded and verified\n",
      "Files already downloaded and verified\n"
     ]
    }
   ],
   "source": [
    "from torchvision import datasets, transforms\n",
    "\n",
    "\n",
    "trainset = datasets.CIFAR10(root=\"~/.pytorch/CIFAR-10\", train=True, download=True,\n",
    "\t\t\t\t\t\t\ttransform=transforms.ToTensor())\n",
    "testset = datasets.CIFAR10(root=\"~/.pytorch/CIFAR-10\", train=False, download=True,\n",
    "\t\t\t\t\t\t\ttransform=transforms.ToTensor())\n",
    "\n",
    "full_dataset = torch.utils.data.ConcatDataset([trainset, testset])\n",
    "loader = torch.utils.data.DataLoader(full_dataset, batch_size=5000, shuffle=False, num_workers=2)"
   ]
  },
  {
   "cell_type": "code",
   "execution_count": 3,
   "metadata": {},
   "outputs": [
    {
     "name": "stdout",
     "output_type": "stream",
     "text": [
      "mean: tensor([0.4919, 0.4827, 0.4472]) std: tensor([0.2022, 0.1994, 0.2010])\n"
     ]
    }
   ],
   "source": [
    "mean = 0.0\n",
    "std = 0.0\n",
    "total_images = 0\n",
    "\n",
    "for images, _ in loader:\n",
    "\timages = images.view(images.size(0), images.size(1), -1) # (5000, 3, 1024)\n",
    "\n",
    "\tmean += images.mean(2).sum(0) # (5000, 3) -> (3)\n",
    "\tstd += images.std(2).sum(0) # (5000, 3) -> (3)\n",
    "\ttotal_images += images.size(0)\n",
    "\n",
    "mean /= total_images\n",
    "std /= total_images\n",
    "\n",
    "print(f\"mean: {mean} std: {std}\")"
   ]
  },
  {
   "cell_type": "code",
   "execution_count": 4,
   "metadata": {},
   "outputs": [
    {
     "name": "stdout",
     "output_type": "stream",
     "text": [
      "Files already downloaded and verified\n",
      "Files already downloaded and verified\n"
     ]
    }
   ],
   "source": [
    "from torchvision import datasets, transforms\n",
    "\n",
    "\n",
    "transform = transforms.Compose([transforms.ToTensor(),\n",
    "\t\t\t\t\t\t\t\ttransforms.Normalize((0.4919, 0.4827, 0.4472),\n",
    "\t\t\t\t\t\t\t\t\t\t\t\t\t\t(0.2022, 0.1994, 0.2010)),\n",
    "\t\t\t\t\t\t\t\t])\n",
    "\n",
    "trainset = datasets.CIFAR10(\"~/.pytorch/CIFAR-10/\", download=True, train=True, transform=transform)\n",
    "trainloader = torch.utils.data.DataLoader(trainset, batch_size=64, shuffle=True)\n",
    "\n",
    "testset = datasets.CIFAR10(\"~/.pytorch/CIFAR-10/\", download=True, train=False, transform=transform)\n",
    "testloader = torch.utils.data.DataLoader(testset, batch_size=64, shuffle=True)"
   ]
  },
  {
   "cell_type": "code",
   "execution_count": 5,
   "metadata": {},
   "outputs": [],
   "source": [
    "classes = [\n",
    "\t\t\t\"airplane\",\n",
    "\t\t\t\"automobile\",\n",
    "\t\t\t\"bird\",\n",
    "\t\t\t\"cat\",\n",
    "\t\t\t\"deer\",\n",
    "\t\t\t\"dog\",\n",
    "\t\t\t\"frog\",\n",
    "\t\t\t\"horse\",\n",
    "\t\t\t\"ship\",\n",
    "\t\t\t\"truck\"\n",
    "\t\t]"
   ]
  },
  {
   "cell_type": "markdown",
   "metadata": {},
   "source": [
    "## Building the networks"
   ]
  },
  {
   "cell_type": "code",
   "execution_count": 6,
   "metadata": {},
   "outputs": [],
   "source": [
    "import torch.nn.functional as F"
   ]
  },
  {
   "cell_type": "code",
   "execution_count": 7,
   "metadata": {},
   "outputs": [],
   "source": [
    "input_size = 3072\n",
    "output_size = 10"
   ]
  },
  {
   "cell_type": "markdown",
   "metadata": {},
   "source": [
    "### 1"
   ]
  },
  {
   "cell_type": "code",
   "execution_count": 8,
   "metadata": {},
   "outputs": [],
   "source": [
    "hidden_sizes = [512]"
   ]
  },
  {
   "cell_type": "code",
   "execution_count": 9,
   "metadata": {},
   "outputs": [],
   "source": [
    "class Network_1(nn.Module):\n",
    "\tdef __init__(self):\n",
    "\t\tsuper().__init__()\n",
    "\n",
    "\t\tself.fc1 = nn.Linear(input_size, hidden_sizes[0])\n",
    "\t\tself.fc2 = nn.Linear(hidden_sizes[0], output_size)\n",
    "\n",
    "\tdef forward(self, x):\n",
    "\t\tx = F.relu(self.fc1(x))\n",
    "\t\tx = F.log_softmax(self.fc2(x), dim=1)\n",
    "\n",
    "\t\treturn x"
   ]
  },
  {
   "cell_type": "markdown",
   "metadata": {},
   "source": [
    "### 2"
   ]
  },
  {
   "cell_type": "code",
   "execution_count": 10,
   "metadata": {},
   "outputs": [],
   "source": [
    "hidden_sizes = [1024, 512, 256]"
   ]
  },
  {
   "cell_type": "code",
   "execution_count": 11,
   "metadata": {},
   "outputs": [],
   "source": [
    "class Network_2(nn.Module):\n",
    "\tdef __init__(self):\n",
    "\t\tsuper().__init__()\n",
    "\n",
    "\t\tself.fc1 = nn.Linear(input_size, hidden_sizes[0])\n",
    "\t\tself.fc2 = nn.Linear(hidden_sizes[0], hidden_sizes[1])\n",
    "\t\tself.fc3 = nn.Linear(hidden_sizes[1], hidden_sizes[2])\n",
    "\t\tself.fc4 = nn.Linear(hidden_sizes[2], output_size)\n",
    "\n",
    "\tdef forward(self, x):\n",
    "\t\tx = F.relu(self.fc1(x))\n",
    "\t\tx = F.relu(self.fc2(x))\n",
    "\t\tx = F.relu(self.fc3(x))\n",
    "\t\tx = F.log_softmax(self.fc4(x), dim=1)\n",
    "\n",
    "\t\treturn x"
   ]
  },
  {
   "cell_type": "markdown",
   "metadata": {},
   "source": [
    "## Training the networks"
   ]
  },
  {
   "cell_type": "code",
   "execution_count": 12,
   "metadata": {},
   "outputs": [],
   "source": [
    "def train_network(network, epochs, optimizer, learning_rate, criterion):\n",
    "\toptimizer = optimizer(network.parameters(), lr=learning_rate)\n",
    "\n",
    "\tfor _ in range(epochs):\n",
    "\t\trunning_loss = 0\n",
    "\t\tfor images, labels in trainloader:\n",
    "\t\t\timages = images.view(images.shape[0], -1)\n",
    "\t\t\toptimizer.zero_grad()\n",
    "\n",
    "\t\t\tlogits = network(images)\n",
    "\t\t\tloss = criterion(logits, labels)\n",
    "\n",
    "\t\t\tloss.backward()\n",
    "\t\t\toptimizer.step()\n",
    "\n",
    "\t\t\trunning_loss += loss.item()\n",
    "\t\telse:\n",
    "\t\t\tprint(f\"Training loss: {running_loss / len(trainloader)}\")\n"
   ]
  },
  {
   "cell_type": "code",
   "execution_count": 13,
   "metadata": {},
   "outputs": [],
   "source": [
    "networks = [Network_1(), Network_2()]"
   ]
  },
  {
   "cell_type": "code",
   "execution_count": null,
   "metadata": {},
   "outputs": [
    {
     "name": "stdout",
     "output_type": "stream",
     "text": [
      "Training loss: 1.681819505246399\n",
      "Training loss: 1.4760554443539866\n",
      "Training loss: 1.371787110329284\n",
      "Training loss: 1.2896983941345264\n",
      "Training loss: 1.2138646440127927\n"
     ]
    }
   ],
   "source": [
    "epochs = 10\n",
    "optimizer = optim.Adam\n",
    "learning_rate = 0.0001\n",
    "criterion = nn.NLLLoss()\n",
    "\n",
    "for network in networks:\n",
    "\ttrain_network(network, epochs, optimizer, learning_rate, criterion)"
   ]
  },
  {
   "cell_type": "markdown",
   "metadata": {},
   "source": [
    "## Training results"
   ]
  },
  {
   "cell_type": "code",
   "execution_count": null,
   "metadata": {},
   "outputs": [],
   "source": [
    "def view_classify(img, ps, classes):\n",
    "\t''' Function for viewing an image and its predicted classes. '''\n",
    "\n",
    "\t# If `img` is flattened, reshape it to (3, 32, 32) for CIFAR-10 images\n",
    "\tif img.dim() == 2 or img.shape[1] == 3 * 32 * 32:  # Adjust size for your dataset\n",
    "\t\timg = img.view(3, 32, 32)\n",
    "\n",
    "\t# Permute dimensions to make it compatible with plt.imshow\n",
    "\timg = img.permute(1, 2, 0)  # [C, H, W] -> [H, W, C]\n",
    "\timg = (img - img.min()) / (img.max() - img.min())  # Normalize for display\n",
    "\n",
    "\t# Convert prediction tensor to numpy for plotting\n",
    "\tps = ps.data.numpy().squeeze()\n",
    "\n",
    "\t# Plot the image and the class probabilities\n",
    "\tfig, (ax1, ax2) = plt.subplots(figsize=(6, 9), ncols=2)\n",
    "\tax1.imshow(img.numpy())\n",
    "\tax1.axis(\"off\")\n",
    "\n",
    "\tax2.barh(np.arange(len(classes)), ps)\n",
    "\tax2.set_aspect(0.1)\n",
    "\tax2.set_yticks(np.arange(len(classes)))\n",
    "\tax2.set_yticklabels(classes, size=\"small\")\n",
    "\tax2.set_title(\"Class probability\")\n",
    "\tax2.set_xlim(0, 1.1)\n",
    "\n",
    "\tplt.tight_layout()\n",
    "\tplt.show()"
   ]
  },
  {
   "cell_type": "code",
   "execution_count": 17,
   "metadata": {},
   "outputs": [],
   "source": [
    "dataiter = iter(testloader)\n",
    "images, labels = next(dataiter)"
   ]
  },
  {
   "cell_type": "code",
   "execution_count": 18,
   "metadata": {},
   "outputs": [
    {
     "data": {
      "image/png": "[encoded data removed]",
      "text/plain": [
       "<Figure size 600x900 with 2 Axes>"
      ]
     },
     "metadata": {},
     "output_type": "display_data"
    },
    {
     "data": {
      "image/png": "[encoded data removed]",
      "text/plain": [
       "<Figure size 600x900 with 2 Axes>"
      ]
     },
     "metadata": {},
     "output_type": "display_data"
    }
   ],
   "source": [
    "img = images[0].view(1, -1)\n",
    "img.shape\n",
    "\n",
    "ps_1 = torch.exp(networks[0](img))\n",
    "view_classify(img, ps_1, classes)\n",
    "\n",
    "ps_2 = torch.exp(networks[1](img))\n",
    "view_classify(img, ps_2, classes)\n"
   ]
  },
  {
   "cell_type": "markdown",
   "metadata": {},
   "source": [
    "### Best network\n",
    "\n",
    "- Activation function: `log_softmax`.\n",
    "\n",
    "- Criterion: negative log likelihood loss (`NLLLoss`).\n",
    "\n",
    "- Optimizer: stochastic gradient descent (`Adam`).\n",
    "\n",
    "    - Learning rate: $0.0001$.\n",
    "\n",
    "- Hidden layers: `[1024, 512, 256]`."
   ]
  }
 ],
 "metadata": {
  "kernelspec": {
   "display_name": "base",
   "language": "python",
   "name": "python3"
  },
  "language_info": {
   "codemirror_mode": {
    "name": "ipython",
    "version": 3
   },
   "file_extension": ".py",
   "mimetype": "text/x-python",
   "name": "python",
   "nbconvert_exporter": "python",
   "pygments_lexer": "ipython3",
   "version": "3.12.3"
  }
 },
 "nbformat": 4,
 "nbformat_minor": 2
}
